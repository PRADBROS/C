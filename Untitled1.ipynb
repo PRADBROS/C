{
  "nbformat": 4,
  "nbformat_minor": 0,
  "metadata": {
    "colab": {
      "provenance": [],
      "authorship_tag": "ABX9TyMQmPmCOXOyQ7pYXN4z9VuC",
      "include_colab_link": true
    },
    "kernelspec": {
      "name": "python3",
      "display_name": "Python 3"
    },
    "language_info": {
      "name": "python"
    }
  },
  "cells": [
    {
      "cell_type": "markdown",
      "metadata": {
        "id": "view-in-github",
        "colab_type": "text"
      },
      "source": [
        "<a href=\"https://colab.research.google.com/github/Sudharsan2006/C/blob/main/Untitled1.ipynb\" target=\"_parent\"><img src=\"https://colab.research.google.com/assets/colab-badge.svg\" alt=\"Open In Colab\"/></a>"
      ]
    },
    {
      "cell_type": "code",
      "execution_count": null,
      "metadata": {
        "colab": {
          "base_uri": "https://localhost:8080/"
        },
        "id": "B-ZQat8rfV-Q",
        "outputId": "8c3af82b-6683-4c59-8219-042339c2a46c"
      },
      "outputs": [
        {
          "output_type": "stream",
          "name": "stdout",
          "text": [
            "Even list is [2, 4, 6, 8, 10]\n",
            "odd list is [1, 3, 5, 7, 9]\n",
            "even square value [4, 16, 36, 64, 100]\n",
            "odd square value [1, 9, 25, 49, 81]\n"
          ]
        }
      ],
      "source": [
        "a=[1,2,3,4,5,6,7,8,9,10]\n",
        "e=[]\n",
        "o=[]\n",
        "se=[]\n",
        "so=[]\n",
        "\n",
        "for j in a:\n",
        "  if(j%2==0):\n",
        "    e.append(j)\n",
        "    se.append(j*j)\n",
        "  else:\n",
        "    o.append(j)\n",
        "    so.append(j*j)\n",
        "print(\"Even list is\",e)\n",
        "print(\"odd list is\",o)\n",
        "print(\"even square value\",se)\n",
        "print(\"odd square value\",so  )"
      ]
    },
    {
      "cell_type": "code",
      "source": [
        "def sum(a):\n",
        "  largest = a[0]\n",
        "  smallest = a[0]\n",
        "  for i in range(1, len(a)):\n",
        "    if a[i] > largest:\n",
        "      largest = a[i]\n",
        "    elif a[i] < smallest:\n",
        "      smallest = a[i]\n",
        "  return largest, smallest\n",
        "\n",
        "# Driver code\n",
        "a = [10, 20, 4, 5, 6, 7, 8, 9]\n",
        "print(\"Largest element is:\", sum(a)[0])\n",
        "print(\"Smallest element is:\", sum(a)[1])"
      ],
      "metadata": {
        "colab": {
          "base_uri": "https://localhost:8080/"
        },
        "id": "44mOUr_3j2Gt",
        "outputId": "279f2b64-e82b-4aa2-b448-c19cfe4fab2e"
      },
      "execution_count": null,
      "outputs": [
        {
          "output_type": "stream",
          "name": "stdout",
          "text": [
            "Largest element is: 20\n",
            "Smallest element is: 4\n"
          ]
        }
      ]
    },
    {
      "cell_type": "code",
      "source": [
        "def sum(nums):\n",
        "  if len(nums) < 2:\n",
        "    raise ValueError(\"List must contain at least 2 elements.\")\n",
        "\n",
        "  largest = nums[0]\n",
        "  second_largest = nums[1]\n",
        "  smallest = nums[0]\n",
        "  second_smallest = nums[1]\n",
        "\n",
        "  for i in range(2, len(nums)):\n",
        "    if nums[i] > largest:\n",
        "      second_largest = largest\n",
        "      largest = nums[i]\n",
        "    elif nums[i] > second_largest:\n",
        "      second_largest = nums[i]\n",
        "\n",
        "    if nums[i] < smallest:\n",
        "      second_smallest = smallest\n",
        "      smallest = nums[i]\n",
        "    elif nums[i] < second_smallest:\n",
        "      second_smallest = nums[i]\n",
        "\n",
        "  return second_largest, second_smallest\n",
        "\n",
        "# Example usage\n",
        "nums = [10, 5, 8, 3, 20, 1]\n",
        "second_largest, second_smallest = sum(nums)\n",
        "print(f\"Second largest: {second_largest}\")\n",
        "print(f\"Second smallest: {second_smallest}\")"
      ],
      "metadata": {
        "colab": {
          "base_uri": "https://localhost:8080/"
        },
        "id": "VV2BOTassHx0",
        "outputId": "ea8bd576-d6d0-4031-9970-2c57e90d7f40"
      },
      "execution_count": null,
      "outputs": [
        {
          "output_type": "stream",
          "name": "stdout",
          "text": [
            "Second largest: 10\n",
            "Second smallest: 3\n"
          ]
        }
      ]
    },
    {
      "cell_type": "code",
      "source": [
        "def sum(lst):\n",
        "\n",
        "  for i in range(len(lst) - 1):\n",
        "    for j in range(len(lst) - i - 1):\n",
        "      if lst[j] > lst[j + 1]:\n",
        "        lst[j], lst[j + 1] = lst[j + 1], lst[j]\n",
        "  return lst\n",
        "\n",
        "\n",
        "\n",
        "\n",
        "lst = [3, 2, 1, 5, 4]\n",
        "sorted_lst = sum(lst)\n",
        "print(sorted_lst)\n",
        "def sum1(list1):\n",
        "\n",
        "  n = len(list1)\n",
        "  for i in range(n):\n",
        "    for j in range(0, n-i-1):\n",
        "      if list1[j] < list1[j+1]:\n",
        "        list1[j], list1[j+1] = list1[j+1], list1[j]\n",
        "  return list1\n",
        "\n",
        "# Example usage\n",
        "list1 = [10, 5, 8, 3, 20, 1]\n",
        "print(\"Original list:\", list1)\n",
        "print(\"Sorted list in descending order:\", sum1(list1))"
      ],
      "metadata": {
        "colab": {
          "base_uri": "https://localhost:8080/"
        },
        "id": "87ma3aiEvh1e",
        "outputId": "ce94b4d1-f89a-45de-c3cc-0139f8d60743"
      },
      "execution_count": null,
      "outputs": [
        {
          "output_type": "stream",
          "name": "stdout",
          "text": [
            "[1, 2, 3, 4, 5]\n",
            "Original list: [10, 5, 8, 3, 20, 1]\n",
            "Sorted list in descending order: [20, 10, 8, 5, 3, 1]\n"
          ]
        }
      ]
    },
    {
      "cell_type": "code",
      "source": [
        "a = [45, 67, 83, 24, 55, 87, 77, 34]\n",
        "index = a.index(55)\n",
        "print(index)"
      ],
      "metadata": {
        "colab": {
          "base_uri": "https://localhost:8080/"
        },
        "id": "ZGvbQwypwkKw",
        "outputId": "b59986cb-a75e-4e93-a666-c5eb29bcd4a6"
      },
      "execution_count": null,
      "outputs": [
        {
          "output_type": "stream",
          "name": "stdout",
          "text": [
            "4\n"
          ]
        }
      ]
    },
    {
      "cell_type": "code",
      "source": [
        "def most_frequent(nums):\n",
        "\n",
        "  max_count = 0\n",
        "  most_frequent_element = None\n",
        "\n",
        "  for num in nums:\n",
        "    count = nums.count(num)\n",
        "    if count > max_count:\n",
        "      max_count = count\n",
        "      most_frequent_element = num\n",
        "  return most_frequent_element\n",
        "\n",
        "a = [4, 5, 6, 4, 6, 7, 4, 2, 4, 8, 4]\n",
        "most_frequent_element = most_frequent(a)\n",
        "print(f\"Most frequent element: {most_frequent_element}\")"
      ],
      "metadata": {
        "colab": {
          "base_uri": "https://localhost:8080/"
        },
        "id": "M-qqQdUexxPy",
        "outputId": "cc13240c-870b-4ab0-8678-24b41e54e786"
      },
      "execution_count": null,
      "outputs": [
        {
          "output_type": "stream",
          "name": "stdout",
          "text": [
            "Most frequent element: 4\n"
          ]
        }
      ]
    },
    {
      "cell_type": "code",
      "source": [
        "keys = ['Ten', 'Twenty', 'Thirty']\n",
        "values = [10, 20, 30]\n",
        "\n",
        "sum = {}\n",
        "sum.update(zip(keys, values))\n",
        "\n",
        "print(sum)"
      ],
      "metadata": {
        "colab": {
          "base_uri": "https://localhost:8080/"
        },
        "id": "x-A2fCBDyEpV",
        "outputId": "ba0b293c-b189-4630-8556-608f604d0ea4"
      },
      "execution_count": null,
      "outputs": [
        {
          "output_type": "stream",
          "name": "stdout",
          "text": [
            "{'Ten': 10, 'Twenty': 20, 'Thirty': 30}\n"
          ]
        }
      ]
    },
    {
      "cell_type": "code",
      "source": [
        "\n",
        "def rupee_to_dollar(rupees):\n",
        "\n",
        "  dollars = rupees / 74.56\n",
        "  return dollars\n",
        "\n",
        "def celsius_to_fahrenheit(celsius):\n",
        "\n",
        "  fahrenheit = (celsius * 1.8) + 32\n",
        "  return fahrenheit\n",
        "\n",
        "\n",
        "\n",
        "def bmi_calculation(weight, height):\n",
        "\n",
        "  bmi = weight / (height * height)\n",
        "  return bmi\n",
        "\n",
        "\n",
        "def simple_interest(principal, rate, time):\n",
        "\n",
        "\n",
        "  interest = (principal * rate * time) / 100\n",
        "  return interest\n",
        "\n",
        "\n",
        "rupee_amount = 1000\n",
        "dollar_amount = rupee_to_dollar(rupee_amount)\n",
        "print(f\"{rupee_amount} rupees is equal to {dollar_amount:.2f} dollars\")\n",
        "\n",
        "celsius_temperature = 25\n",
        "fahrenheit_temperature = celsius_to_fahrenheit(celsius_temperature)\n",
        "print(f\"{celsius_temperature}°C is equal to {fahrenheit_temperature:.1f}°F\")\n",
        "\n",
        "weight = 70\n",
        "height = 1.75\n",
        "bmi = bmi_calculation(weight, height)\n",
        "print(f\"BMI is {bmi:.2f}\")\n",
        "\n",
        "principal = 10000\n",
        "rate = 5"
      ],
      "metadata": {
        "colab": {
          "base_uri": "https://localhost:8080/"
        },
        "id": "pmaZI_6J1j5y",
        "outputId": "bee2f42e-b831-4b22-b236-a8c916f91cc2"
      },
      "execution_count": null,
      "outputs": [
        {
          "output_type": "stream",
          "name": "stdout",
          "text": [
            "1000 rupees is equal to 13.41 dollars\n",
            "25°C is equal to 77.0°F\n",
            "BMI is 22.86\n"
          ]
        }
      ]
    },
    {
      "cell_type": "code",
      "source": [
        "def get_binary_list(length):\n",
        "  import random\n",
        "  binary_list = []\n",
        "  for _ in range(length):\n",
        "    binary_list.append(random.randint(0, 1))\n",
        "  return binary_list\n",
        "binary_list = get_binary_list(10)\n",
        "print(binary_list)"
      ],
      "metadata": {
        "colab": {
          "base_uri": "https://localhost:8080/"
        },
        "id": "PicovsXz21DK",
        "outputId": "3caff2ff-6524-4924-8c1a-b733fca1d5b0"
      },
      "execution_count": null,
      "outputs": [
        {
          "output_type": "stream",
          "name": "stdout",
          "text": [
            "[1, 0, 1, 0, 0, 1, 1, 1, 0, 0]\n"
          ]
        }
      ]
    },
    {
      "cell_type": "code",
      "source": [
        "voter=[]\n",
        "v=0\n",
        "r=0\n",
        "d=0\n",
        "n=0\n",
        "w=[]\n",
        "x=[]\n",
        "y=[]\n",
        "z=[]\n",
        "for i in range(10):\n",
        "  i=input()\n",
        "  voter.append(i)\n",
        "for j in voter:\n",
        "  a=int(input(\"\"\"Press 1 to vote Virat\n",
        "           Press 2 to vote Rohit\n",
        "           Press 3 to vote Dhoni\n",
        "           Press 4 to vote Nota\"\"\"))\n",
        "  if a==1:\n",
        "    v=v+1\n",
        "    w.append(j)\n",
        "  elif a==2:\n",
        "    r=r+1\n",
        "    x.append(j)\n",
        "  elif a==3:\n",
        "    d=d+1\n",
        "    y.append(j)\n",
        "  else:\n",
        "    n = n + 1\n",
        "z.append(j)\n",
        "if v > r and v > d and v > n:\n",
        "  print(\"Virat is the WINNER got \", v, \"Votes by\", w)\n",
        "if r>v and r> d and r > n:\n",
        "  print(\"Rohit is the WINNER got \",r,\"Votes by\",x)\n",
        "if d>r and d>v and d>n:\n",
        "  print(\"Dhoni is the WINNER got \",d,\"Votes by\",y)\n",
        "if n>r and n>d and n>v:\n",
        "  print(\"Nota is the WINNER got \",n,\"Votes by\",z)\n"
      ],
      "metadata": {
        "colab": {
          "base_uri": "https://localhost:8080/"
        },
        "id": "G6STRXVE4Rtv",
        "outputId": "aefcb726-e7d5-4f96-c594-c7cc2eecc9f0"
      },
      "execution_count": null,
      "outputs": [
        {
          "output_type": "stream",
          "name": "stdout",
          "text": [
            "a\n",
            "s\n",
            "d\n",
            "f\n",
            "g\n",
            "h\n",
            "j\n",
            "k\n",
            "l\n",
            "o\n",
            "Press 1 to vote Virat\n",
            "           Press 2 to vote Rohit\n",
            "           Press 3 to vote Dhoni\n",
            "           Press 4 to vote Nota2\n",
            "Press 1 to vote Virat\n",
            "           Press 2 to vote Rohit\n",
            "           Press 3 to vote Dhoni\n",
            "           Press 4 to vote Nota2\n",
            "Press 1 to vote Virat\n",
            "           Press 2 to vote Rohit\n",
            "           Press 3 to vote Dhoni\n",
            "           Press 4 to vote Nota2\n",
            "Press 1 to vote Virat\n",
            "           Press 2 to vote Rohit\n",
            "           Press 3 to vote Dhoni\n",
            "           Press 4 to vote Nota2\n",
            "Press 1 to vote Virat\n",
            "           Press 2 to vote Rohit\n",
            "           Press 3 to vote Dhoni\n",
            "           Press 4 to vote Nota2\n",
            "Press 1 to vote Virat\n",
            "           Press 2 to vote Rohit\n",
            "           Press 3 to vote Dhoni\n",
            "           Press 4 to vote Nota2\n",
            "Press 1 to vote Virat\n",
            "           Press 2 to vote Rohit\n",
            "           Press 3 to vote Dhoni\n",
            "           Press 4 to vote Nota2\n",
            "Press 1 to vote Virat\n",
            "           Press 2 to vote Rohit\n",
            "           Press 3 to vote Dhoni\n",
            "           Press 4 to vote Nota4\n",
            "Press 1 to vote Virat\n",
            "           Press 2 to vote Rohit\n",
            "           Press 3 to vote Dhoni\n",
            "           Press 4 to vote Nota3\n",
            "Press 1 to vote Virat\n",
            "           Press 2 to vote Rohit\n",
            "           Press 3 to vote Dhoni\n",
            "           Press 4 to vote Nota1\n",
            "Rohit is the WINNER got  7 Votes by ['a', 's', 'd', 'f', 'g', 'h', 'j']\n"
          ]
        }
      ]
    }
  ]
}