{
  "nbformat": 4,
  "nbformat_minor": 0,
  "metadata": {
    "colab": {
      "provenance": [],
      "authorship_tag": "ABX9TyO41lLn3aqDnX5Oe3Uu3vfq",
      "include_colab_link": true
    },
    "kernelspec": {
      "name": "python3",
      "display_name": "Python 3"
    },
    "language_info": {
      "name": "python"
    }
  },
  "cells": [
    {
      "cell_type": "markdown",
      "metadata": {
        "id": "view-in-github",
        "colab_type": "text"
      },
      "source": [
        "<a href=\"https://colab.research.google.com/github/Sudharsan2006/C/blob/main/Untitled2.ipynb\" target=\"_parent\"><img src=\"https://colab.research.google.com/assets/colab-badge.svg\" alt=\"Open In Colab\"/></a>"
      ]
    },
    {
      "cell_type": "code",
      "execution_count": null,
      "metadata": {
        "id": "BvICLto0x4ve"
      },
      "outputs": [],
      "source": [
        "# Python program to create a table\n",
        "\n",
        "from tkinter import *\n",
        "\n",
        "\n",
        "class Table:\n",
        "\n",
        "    def __init__(self,root):\n",
        "\n",
        "        # code for creating table\n",
        "        for i in range(total_rows):\n",
        "            for j in range(total_columns):\n",
        "\n",
        "                self.e = Entry(root, width=20, fg='black',\n",
        "                               font=('Arial',16,'bold'))\n",
        "\n",
        "                self.e.grid(row=i, column=j)\n",
        "                self.e.insert(END, lst[i][j])\n",
        "\n",
        "# take the data\n",
        "lst = [\n",
        "       (0,'NAME','PLACE','AGE'),\n",
        "       (1,'surya','dharmapuri',19),\n",
        "       (2,'praveen','athur',18),\n",
        "       (3,'dhinesh','erode',17),\n",
        "       (4,'shyam','gobi',17),\n",
        "       (5,'abishek','tiruchengode',18)]\n",
        "\n",
        "# find total number of rows and\n",
        "# columns in list\n",
        "total_rows = len(lst)\n",
        "total_columns = len(lst[0])\n",
        "\n",
        "# create root window\n",
        "root = Tk()\n",
        "t = Table(root)\n",
        "root.mainloop()"
      ]
    }
  ]
}